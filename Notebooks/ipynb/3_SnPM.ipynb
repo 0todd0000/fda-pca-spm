{
 "cells": [
  {
   "cell_type": "markdown",
   "metadata": {},
   "source": [
    "# Statistical non-Parametric Mapping (SnPM) t test\n",
    "\n",
    "This notebook describes a non-parametric t-test using **spm1d**. For additional details refer to the documentation at [spm1d.org](http://www.spm1d.org)"
   ]
  },
  {
   "cell_type": "markdown",
   "metadata": {},
   "source": [
    "____________\n",
    "## Step 1:  Load the data & rename variables\n",
    "\n",
    "Following the previous notebook (SPM t test), let's load the data and rename the variables."
   ]
  },
  {
   "cell_type": "code",
   "execution_count": 1,
   "metadata": {},
   "outputs": [],
   "source": [
    "load('Warmenhoven2018-bow-force.mat');\n",
    "\n",
    "yA = Pin_Force_Bow_Male';   %(10 x 51) array\n",
    "yB = Pin_Force_Bow_Female'; %(10 x 51) array"
   ]
  },
  {
   "cell_type": "markdown",
   "metadata": {},
   "source": [
    "____________\n",
    "## Step 2:  Conduct t test"
   ]
  },
  {
   "cell_type": "code",
   "execution_count": 2,
   "metadata": {},
   "outputs": [
    {
     "data": {
      "image/png": "[encoded data removed]",
      "text/plain": [
       "<IPython.core.display.Image object>"
      ]
     },
     "metadata": {},
     "output_type": "display_data"
    }
   ],
   "source": [
    "snpm  = spm1d.stats.nonparam.ttest2(yA, yB);\n",
    "snpmi = snpm.inference(0.05, 'iterations', 10000, 'two_tailed', true);\n",
    "\n",
    "snpmi.plot();\n",
    "snpmi.plot_threshold_label(); \n",
    "snpmi.plot_p_values();"
   ]
  },
  {
   "cell_type": "markdown",
   "metadata": {},
   "source": [
    "These results are qualitatively identical to the parametric results in the previous notebook.  The code is nearly the same too, with two exceptions:\n",
    "\n",
    "* The **ttest2** function used for non-parametric testing is found in the \"nonparam\" folder: ./+spm1d/+stats/+nonparam/ttest2.m\n",
    "\n",
    "* A value for \"iterations\" is needed for non-parametric inference.\n",
    "\n",
    "To explain the meaning of \"iterations\" let's first consider the the attributes of the **snpm** variable:"
   ]
  },
  {
   "cell_type": "code",
   "execution_count": 3,
   "metadata": {},
   "outputs": [
    {
     "name": "stdout",
     "output_type": "stream",
     "text": [
      "\n",
      "SnPM{t} (1D)\n",
      "              z: [1×51 double]\n",
      "    nPermUnique: 184756\n",
      "\n"
     ]
    }
   ],
   "source": [
    "disp(snpm)"
   ]
  },
  {
   "cell_type": "markdown",
   "metadata": {},
   "source": [
    "Like before the **z** attribute contains the test statistic continuum. There is a new attribute:\n",
    "\n",
    "* **nPermUnique**: the number of unique permutations possible for (non-parametric) permutation testing. Continuum-level permutation testing is described in [Nichols & Holmes (2003)](https://doi.org/10.1002/hbm.1058) for 3D data and in [Pataky et al. 2015](https://doi.org/10.1016/j.jbiomech.2015.02.051) for 1D data. Basically, each observation is assigned a group label (\"A\" or \"B\"), then the labels are randomly permuted and the test statistic continuum is re-calculated and its maximum value is saved. This random permutation process is repeated *N* times, yielding a distribution of *N* maximum t values, and the critical test statistic value can be computed directly from this distribution.  Note that the distribution of maximum t values produced by this non-parametric permutation procedure will converge to the parametric distribution (from Random Field Theory) when the data are normally distributed.\n",
    "\n",
    "The \"iterations\" argument in the **inference** method is *N*, or the number of random permutations to test.  Setting \"iterations\" to -1 will run through all of the unique permutations, but usually *N*=10,000 is sufficient to achieve numerical stability.\n",
    "\n",
    "The output from **inference** contains some additional attributes:"
   ]
  },
  {
   "cell_type": "code",
   "execution_count": 4,
   "metadata": {},
   "outputs": [
    {
     "name": "stdout",
     "output_type": "stream",
     "text": [
      "\n",
      "SnPM{t} inference (1D)\n",
      "              z: [1×51 double]\n",
      "    nPermUnique: 184756\n",
      "    nPermActual: 10000\n",
      "          alpha: 0.0500\n",
      "          zstar: 3.2015\n",
      "       h0reject: 1\n",
      "              p: 1.0000e-04\n",
      "\n"
     ]
    }
   ],
   "source": [
    "disp(snpmi)"
   ]
  },
  {
   "cell_type": "markdown",
   "metadata": {},
   "source": [
    "Identical to parametric inference, the Type I error rate **alpha**, the critical threshold **zstar**, the null hyothesis rejection decision **h0reject**, and cluster-specific probablity values **p** are also attributes of non-parametric inference. The only new attribute is:\n",
    "\n",
    "* **nPermActual**:  the actual number of permutations performed. Its maximum possible value is **nPermUnique**."
   ]
  }
 ],
 "metadata": {
  "kernelspec": {
   "display_name": "Matlab",
   "language": "matlab",
   "name": "matlab"
  },
  "language_info": {
   "codemirror_mode": "octave",
   "file_extension": ".m",
   "help_links": [
    {
     "text": "MetaKernel Magics",
     "url": "https://github.com/calysto/metakernel/blob/master/metakernel/magics/README.md"
    }
   ],
   "mimetype": "text/x-octave",
   "name": "matlab",
   "version": "0.15.0"
  }
 },
 "nbformat": 4,
 "nbformat_minor": 2
}
