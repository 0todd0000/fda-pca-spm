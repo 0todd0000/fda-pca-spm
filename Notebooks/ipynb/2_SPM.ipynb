{
 "cells": [
  {
   "cell_type": "markdown",
   "metadata": {},
   "source": [
    "# Statistical Parametric Mapping (SPM) t test\n",
    "\n",
    "This notebook describes a parametric t-test using **spm1d**. For additional details refer to the documentation at [spm1d.org](http://www.spm1d.org)"
   ]
  },
  {
   "cell_type": "markdown",
   "metadata": {},
   "source": [
    "____________\n",
    "## Step 1:  Load the data\n",
    "\n",
    "Load the **Warmenhoven2018-bow-force** data file (in the \"Data\" folder of the seminar materials)."
   ]
  },
  {
   "cell_type": "code",
   "execution_count": 1,
   "metadata": {},
   "outputs": [],
   "source": [
    "load('Warmenhoven2018-bow-force.mat');"
   ]
  },
  {
   "cell_type": "markdown",
   "metadata": {},
   "source": [
    "____________\n",
    "## Step 2:  Rename the variables\n",
    "\n",
    "We will analyze the **Pin_Force_Bow_Female** and **Pin_Force_Bow_Male** variables from the **Warmenhoven2018-bow-force** data file. Let's transpose these (51 x 10) arrays and rename these as **yA** and **yB**, respectively, to emphasize that **spm1d** and **fda** require the data in different formats."
   ]
  },
  {
   "cell_type": "code",
   "execution_count": 2,
   "metadata": {},
   "outputs": [],
   "source": [
    "yA = Pin_Force_Bow_Male';   %(10 x 51) array\n",
    "yB = Pin_Force_Bow_Female'; %(10 x 51) array"
   ]
  },
  {
   "cell_type": "markdown",
   "metadata": {},
   "source": [
    "____________\n",
    "## Step 3:  Conduct t test\n",
    "\n",
    "We'll first conduct the test the consider the details.  "
   ]
  },
  {
   "cell_type": "code",
   "execution_count": 3,
   "metadata": {},
   "outputs": [
    {
     "data": {
      "image/png": "[encoded data removed]",
      "text/plain": [
       "<IPython.core.display.Image object>"
      ]
     },
     "metadata": {},
     "output_type": "display_data"
    }
   ],
   "source": [
    "spm  = spm1d.stats.ttest2(yA, yB);\n",
    "spmi = spm.inference(0.05, 'two_tailed', true);\n",
    "\n",
    "spmi.plot();\n",
    "spmi.plot_threshold_label(); \n",
    "spmi.plot_p_values();"
   ]
  },
  {
   "cell_type": "markdown",
   "metadata": {},
   "source": [
    "Results indicate a significant between-group difference (p < 0.001) between approximately Frame 18 and 40. Let's consider the code and also the results in more detail.\n",
    "\n",
    "First, the **spm1d.stats.ttest2** function is used to compute the test statistic value (in this case: the t value) a parametric two-sample t test. The dots in \"**spm1d.stats.ttest2**\" indicate the location of the function in the **spm1d** directory structure.  In this case, \"**spm1d.stats.ttest2**\" means that there is a **MATLAB** function defined in a file called \"ttest2.m\" which is located in the directory: **./+spm1d/+stats/**.  The \"+\" symbol at the beginning of the directory name allows you to access functions using this dot syntax.\n",
    "\n",
    "The output from **ttest2** is named \"**spm**\" above, but any variable name is fine. The variable is a **MATLAB** object, which is a special kind of **MATLAB** structure to which both variables (also called \"attributes\") and functions (also called \"methods\") can be attached. The variable's main attributes can be shown using the **disp** command like this:"
   ]
  },
  {
   "cell_type": "code",
   "execution_count": 4,
   "metadata": {},
   "outputs": [
    {
     "name": "stdout",
     "output_type": "stream",
     "text": [
      "\n",
      "SPM{t}\n",
      "         z: [1×51 double]\n",
      "        df: [1 18]\n",
      "      fwhm: 9.3476\n",
      "    resels: [1 5.3490]\n",
      "\n"
     ]
    }
   ],
   "source": [
    "disp(spm)"
   ]
  },
  {
   "cell_type": "markdown",
   "metadata": {},
   "source": [
    "And the attributes can also be accesses using the usual \"dot\" syntax like this: "
   ]
  },
  {
   "cell_type": "code",
   "execution_count": 5,
   "metadata": {},
   "outputs": [
    {
     "name": "stdout",
     "output_type": "stream",
     "text": [
      "     1    18\n",
      "\n"
     ]
    }
   ],
   "source": [
    "disp(spm.df)"
   ]
  },
  {
   "cell_type": "markdown",
   "metadata": {},
   "source": [
    "The attributes are:\n",
    "\n",
    "- **z**:  test statistic continuum\n",
    "\n",
    "- **df**: degrees of freedom\n",
    "\n",
    "- **fwhm**:  estimated smoothness (the full-width-at-half-maximum of a Gaussian kernel that would, when convolved with uncorreletaed data, would produce the same smoothness as the observed residuals. [More details regarding fwhm are available here.](http://www.spm1d.org/rft1d/Theory.html))\n",
    "\n",
    "- **resels**: the resolution element (resel) counts; the first count is the number of unbroken continuum segments, and the second count is the continuum size (here 50 (51-1)) divided by the fwhm.\n",
    "\n",
    "The **df** and **resels** are the two parameters needed for statistical inference.  Note that **df** defines the shape of the [Student's t distribution](https://en.wikipedia.org/wiki/Student%27s_t-distribution) and is used for computing probabilities in common t tests involving 0D data in software like SPSS and Excel. **spm1d** uses [Random Field Theory](http://www.spm1d.org/rft1d/Theory.html) probability distributions to conduct parametric statistical inference, and these distributions require the additional **resels** parameter.\n",
    "\n",
    "In addition to the attributes, a variety of methods are also attached to the **spm** object.  The code above calls the **inference** method in order to conduct statistical inference. The **df** and **resels** parameters are already stored in the **spm** variable, so the only additional details needed are the alpha level (here 0.05) and whether or not two-tailed inference should be conducted. If you're uncertain, \"two_tailed\" should always be true.\n",
    "\n",
    "The output of inference is saved in a separate variable **spmi**, but again any variable name is possible.  This object contains some additional attributes:"
   ]
  },
  {
   "cell_type": "code",
   "execution_count": 6,
   "metadata": {},
   "outputs": [
    {
     "name": "stdout",
     "output_type": "stream",
     "text": [
      "\n",
      "SPM{t} inference\n",
      "           z: [1×51 double]\n",
      "          df: [1 18]\n",
      "        fhwm: 9.3476\n",
      "      resels: [1 5.3490]\n",
      "       alpha: 0.0500\n",
      "       zstar: 3.3402\n",
      "    h0reject: 1\n",
      "       p_set: 7.0803e-12\n",
      "           p: 7.0803e-12\n",
      "\n"
     ]
    }
   ],
   "source": [
    "disp(spmi)"
   ]
  },
  {
   "cell_type": "markdown",
   "metadata": {},
   "source": [
    "The specified alpha level is saved in **spmi**, along with the following attributes:\n",
    "\n",
    "* **zstar**:  the critical threshold at the specified alpha level. If the t contrinuum traverses this threshold then the null hypothesis is rejected.\n",
    "\n",
    "* **h0reject**:  the null hypothesis rejection decision (0 = fail to reject, 1 = reject)\n",
    "\n",
    "* **p**:  the probability that random Gaussian continua with the given smoothness (fwhm) would produce a suprathreshold cluster of the given size if the null hypothesis (of no group differences) is true\n",
    "\n",
    "* **p_set**:  the probability that random Gaussian continua with the given smoothness (fwhm) would produce a set of *C* suprathreshold clusters, each with an extent at least as big as the smallest cluster. **p_set** is the same as **p** if there is just one cluster. If there are two or more clusters **p_set** is always smaller than the largest cluster-specific p value.\n",
    "\n",
    "In addition to these attributes the **spmi** object has a variety of methods including the three plotting methods:\n",
    "\n",
    "* **plot**:  plot the test statistic continuum and the critical threshold(s)\n",
    "\n",
    "* **plot_threshold_label**:  plot the alpha value and critical threshold value as text\n",
    "\n",
    "* **plot_p_values**:  plot cluster-specific p values\n"
   ]
  }
 ],
 "metadata": {
  "kernelspec": {
   "display_name": "Matlab",
   "language": "matlab",
   "name": "matlab"
  },
  "language_info": {
   "codemirror_mode": "octave",
   "file_extension": ".m",
   "help_links": [
    {
     "text": "MetaKernel Magics",
     "url": "https://github.com/calysto/metakernel/blob/master/metakernel/magics/README.md"
    }
   ],
   "mimetype": "text/x-octave",
   "name": "matlab",
   "version": "0.15.0"
  }
 },
 "nbformat": 4,
 "nbformat_minor": 2
}
